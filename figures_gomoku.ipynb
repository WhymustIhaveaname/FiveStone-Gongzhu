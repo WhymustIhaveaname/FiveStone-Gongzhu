{
 "cells": [
  {
   "cell_type": "code",
   "execution_count": null,
   "id": "artificial-buddy",
   "metadata": {},
   "outputs": [],
   "source": [
    "%matplotlib notebook\n",
    "#import matplotlib\n",
    "#matplotlib.use('Agg')\n",
    "import matplotlib.pyplot as plt\n",
    "import re"
   ]
  },
  {
   "cell_type": "code",
   "execution_count": null,
   "id": "needed-nebraska",
   "metadata": {},
   "outputs": [],
   "source": [
    "logfile=\"fivestone_zero.log.18\"\n",
    "with open(logfile,\"r\") as f:\n",
    "    lines=f.read()\n",
    "    \n",
    "avg_step=[(int(i),int(j)/(30*16))\\\n",
    "          for i,j in re.findall(\"epoch ([0-9]+) with ([0-9]+) datas\",lines)]\n",
    "line_step=[(int(i),float(j))\\\n",
    "          for i,j in re.findall(\"epoch ([0-9]+) avg win steps: [0-9/]+=([0-9\\.]+)\",lines)]\n",
    "win_bk=[(int(i),float(j))\\\n",
    "          for i,j in re.findall(\"epoch ([0-9]+) nn_color bk: ([0-9\\.]+)%\",lines)\\\n",
    "          if int(i)%5==0]\n",
    "win_wt=[(int(i),float(j))\\\n",
    "          for i,j in re.findall(\"epoch ([0-9]+) nn_color wt: ([0-9\\.]+)%\",lines)\\\n",
    "          if int(i)%5==0]\n",
    "\n",
    "fontsize='large' #xx-large\n",
    "fig=plt.figure(figsize=[8,6],dpi=72)\n",
    "ax1=fig.subplots(1)\n",
    "ax2=ax1.twinx()\n",
    "\n",
    "#ax1.plot([i for i,j in avg_step],[j for i,j in avg_step],'--',\n",
    "#         markersize=8,linewidth=2)\n",
    "#ax1.set_ylabel(\"Average Game Length in self playing\",fontsize=fontsize)\n",
    "ax1.plot([i for i,j in line_step],[j for i,j in line_step],'--',\n",
    "         markersize=8,linewidth=2)\n",
    "ax1.set_ylabel(\"Steps Taken for Five in a Line (no opponent)\",fontsize=fontsize)\n",
    "ax1.set_ylim(3.5,33)\n",
    "\n",
    "ax2.plot([i for i,j in win_bk],[j for i,j in win_bk],'-go',\n",
    "         markersize=8,linewidth=2,label=\"As Black\")\n",
    "ax2.plot([i for i,j in win_wt],[j for i,j in win_wt],'-yo',\n",
    "         markersize=8,linewidth=2,label=\"As White\")\n",
    "ax2.set_ylabel(\"Win Rate of Raw Network against Man-made AI (%)\",fontsize=fontsize)\n",
    "ax2.set_ylim(-3.5,71.5)\n",
    "ax2.legend(fontsize=fontsize)\n",
    "\n",
    "#plt.xticks(fontsize=fontsize)\n",
    "#plt.yticks(fontsize=fontsize)\n",
    "ax1.set_xlabel(\"Epoch\",fontsize=fontsize)\n",
    "plt.title(logfile)\n",
    "\n",
    "plt.savefig(\"try%s.png\"%(logfile.split(\".\")[-1]))\n",
    "plt.show()"
   ]
  },
  {
   "cell_type": "code",
   "execution_count": null,
   "id": "inner-vampire",
   "metadata": {},
   "outputs": [],
   "source": []
  }
 ],
 "metadata": {
  "kernelspec": {
   "display_name": "Python 3",
   "language": "python",
   "name": "python3"
  },
  "language_info": {
   "codemirror_mode": {
    "name": "ipython",
    "version": 3
   },
   "file_extension": ".py",
   "mimetype": "text/x-python",
   "name": "python",
   "nbconvert_exporter": "python",
   "pygments_lexer": "ipython3",
   "version": "3.8.5"
  }
 },
 "nbformat": 4,
 "nbformat_minor": 5
}
